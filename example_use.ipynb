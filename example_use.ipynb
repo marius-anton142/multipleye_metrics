{
  "nbformat": 4,
  "nbformat_minor": 0,
  "metadata": {
    "colab": {
      "provenance": []
    },
    "kernelspec": {
      "name": "python3",
      "display_name": "Python 3"
    },
    "language_info": {
      "name": "python"
    }
  },
  "cells": [
    {
      "cell_type": "code",
      "execution_count": 1,
      "metadata": {
        "id": "JDLNnM6BroFH"
      },
      "outputs": [],
      "source": [
        "import json\n",
        "import spacy\n",
        "from transformers import AutoTokenizer\n",
        "\n",
        "import metrics"
      ]
    },
    {
      "cell_type": "code",
      "source": [
        "with open(\"/content/multipleye_stimuli_experiment_en.json\", \"r\", encoding=\"utf-8\") as f:\n",
        "    en_data = json.load(f)\n",
        "\n",
        "with open(\"/content/multipleye_stimuli_experiment_RO.json\", \"r\", encoding=\"utf-8\") as f:\n",
        "    ro_data = json.load(f)"
      ],
      "metadata": {
        "id": "nilPv-biryRs"
      },
      "execution_count": 3,
      "outputs": []
    },
    {
      "cell_type": "code",
      "source": [
        "!python -m spacy download ro_core_news_sm"
      ],
      "metadata": {
        "id": "cX39Gu4Or9xD"
      },
      "execution_count": null,
      "outputs": []
    },
    {
      "cell_type": "code",
      "source": [
        "nlp_en = spacy.load(\"en_core_web_sm\")\n",
        "nlp_ro = spacy.load(\"ro_core_news_sm\")\n",
        "tok = AutoTokenizer.from_pretrained(\"gpt2\")"
      ],
      "metadata": {
        "id": "cu1xiZpwrzUt"
      },
      "execution_count": null,
      "outputs": []
    },
    {
      "cell_type": "code",
      "source": [
        "en_vals, en_avg = metrics.pronouns_per_sentence(en_data, nlp_en)\n",
        "ro_vals, ro_avg = metrics.pronouns_per_sentence(ro_data, nlp_ro)\n",
        "print(\"English average pronouns per sentence:\", en_avg)\n",
        "print(\"Romanian average pronouns per sentence:\", ro_avg)\n",
        "\n",
        "en_vals, en_avg = metrics.punctuation_per_sentence(en_data, nlp_en)\n",
        "ro_vals, ro_avg = metrics.punctuation_per_sentence(ro_data, nlp_ro)\n",
        "print(\"English average pronouns per sentence:\", en_avg)\n",
        "print(\"Romanian average pronouns per sentence:\", ro_avg)"
      ],
      "metadata": {
        "colab": {
          "base_uri": "https://localhost:8080/"
        },
        "id": "ZmzyDzwtsSPA",
        "outputId": "6f42b8a3-e5a2-4b4c-d718-6de762cbd5f2"
      },
      "execution_count": 8,
      "outputs": [
        {
          "output_type": "stream",
          "name": "stdout",
          "text": [
            "English average pronouns per sentence: 1.6079136690647482\n",
            "Romanian average pronouns per sentence: 1.4631578947368422\n",
            "English average pronouns per sentence: 3.129496402877698\n",
            "Romanian average pronouns per sentence: 2.9298245614035086\n"
          ]
        }
      ]
    },
    {
      "cell_type": "code",
      "source": [
        "en_vals, en_avg = metrics.fertility(en_data, nlp_en, tok)\n",
        "print(\"Fertility values:\", en_vals[:10])\n",
        "print(\"Average fertility:\", en_avg)\n",
        "\n",
        "ro_vals, ro_avg = metrics.fertility(ro_data, nlp_ro, tok)\n",
        "print(\"Romanian fertility values:\", ro_vals[:10])\n",
        "print(\"Romanian average fertility:\", ro_avg)"
      ],
      "metadata": {
        "colab": {
          "base_uri": "https://localhost:8080/"
        },
        "id": "R1IBRRqrsj07",
        "outputId": "ced96f02-00a0-4b09-d5cc-4fa6b6c6dbd5"
      },
      "execution_count": 12,
      "outputs": [
        {
          "output_type": "stream",
          "name": "stdout",
          "text": [
            "Fertility values: [1, 4, 1, 1, 1, 4, 1, 1, 2, 2]\n",
            "Average fertility: 1.2954688483322845\n",
            "Romanian fertility values: [4, 4, 3, 4, 1, 1, 2, 1, 4, 1]\n",
            "Romanian average fertility: 2.8054406617881007\n"
          ]
        }
      ]
    },
    {
      "cell_type": "code",
      "source": [
        "df_en, vals_en, avg_en = metrics.compute_ttr(en_data, nlp_en)\n",
        "print(\"Average English TTR - pages:\", avg_en)\n",
        "print(df_en.head(10))\n",
        "df_ro, vals_ro, avg_ro = metrics.compute_ttr(ro_data, nlp_ro)\n",
        "print(\"\\nAverage Romanian TTR - pages:\", avg_ro)\n",
        "print(df_ro.head(10))"
      ],
      "metadata": {
        "colab": {
          "base_uri": "https://localhost:8080/"
        },
        "id": "j4Dt5voUs5-R",
        "outputId": "d3cdc8c4-588f-46a2-c7f5-7d602cf663ec"
      },
      "execution_count": 14,
      "outputs": [
        {
          "output_type": "stream",
          "name": "stdout",
          "text": [
            "Average English TTR - pages: 0.7625672295427283\n",
            "   stimulus_id      stimulus_name      scope  page  num_tokens  num_types  \\\n",
            "0            1  PopSci_MultiplEYE  full_text   NaN         814        334   \n",
            "1            1  PopSci_MultiplEYE       page   1.0          71         53   \n",
            "2            1  PopSci_MultiplEYE       page   2.0          67         53   \n",
            "3            1  PopSci_MultiplEYE       page   3.0          68         52   \n",
            "4            1  PopSci_MultiplEYE       page   4.0          65         43   \n",
            "5            1  PopSci_MultiplEYE       page   5.0          85         57   \n",
            "6            1  PopSci_MultiplEYE       page   6.0          75         56   \n",
            "7            1  PopSci_MultiplEYE       page   7.0          84         55   \n",
            "8            1  PopSci_MultiplEYE       page   8.0          86         61   \n",
            "9            1  PopSci_MultiplEYE       page   9.0          91         70   \n",
            "\n",
            "        ttr  \n",
            "0  0.410319  \n",
            "1  0.746479  \n",
            "2  0.791045  \n",
            "3  0.764706  \n",
            "4  0.661538  \n",
            "5  0.670588  \n",
            "6  0.746667  \n",
            "7  0.654762  \n",
            "8  0.709302  \n",
            "9  0.769231  \n",
            "\n",
            "Average Romanian TTR - pages: 0.785821880658806\n",
            "   stimulus_id      stimulus_name      scope  page  num_tokens  num_types  \\\n",
            "0            1  PopSci_MultiplEYE  full_text   NaN         978        418   \n",
            "1            1  PopSci_MultiplEYE       page   1.0          89         67   \n",
            "2            1  PopSci_MultiplEYE       page   2.0         101         67   \n",
            "3            1  PopSci_MultiplEYE       page   3.0          76         58   \n",
            "4            1  PopSci_MultiplEYE       page   4.0          73         54   \n",
            "5            1  PopSci_MultiplEYE       page   5.0          89         66   \n",
            "6            1  PopSci_MultiplEYE       page   6.0          96         67   \n",
            "7            1  PopSci_MultiplEYE       page   7.0          91         72   \n",
            "8            1  PopSci_MultiplEYE       page   8.0         101         79   \n",
            "9            1  PopSci_MultiplEYE       page   9.0         113         80   \n",
            "\n",
            "        ttr  \n",
            "0  0.427403  \n",
            "1  0.752809  \n",
            "2  0.663366  \n",
            "3  0.763158  \n",
            "4  0.739726  \n",
            "5  0.741573  \n",
            "6  0.697917  \n",
            "7  0.791209  \n",
            "8  0.782178  \n",
            "9  0.707965  \n"
          ]
        }
      ]
    }
  ]
}