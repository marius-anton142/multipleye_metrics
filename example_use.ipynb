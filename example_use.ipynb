{
  "nbformat": 4,
  "nbformat_minor": 0,
  "metadata": {
    "colab": {
      "provenance": []
    },
    "kernelspec": {
      "name": "python3",
      "display_name": "Python 3"
    },
    "language_info": {
      "name": "python"
    }
  },
  "cells": [
    {
      "cell_type": "code",
      "source": [
        "import json\n",
        "import spacy\n",
        "from transformers import AutoTokenizer\n",
        "import metrics"
      ],
      "metadata": {
        "id": "u5J8g7S9tQuL"
      },
      "execution_count": 131,
      "outputs": []
    },
    {
      "cell_type": "code",
      "source": [
        "with open(\"/content/multipleye_stimuli_experiment_en.json\", \"r\", encoding=\"utf-8\") as f:\n",
        "    en_data = json.load(f)\n",
        "\n",
        "with open(\"/content/multipleye_stimuli_experiment_RO.json\", \"r\", encoding=\"utf-8\") as f:\n",
        "    ro_data = json.load(f)"
      ],
      "metadata": {
        "id": "omT9DOSvtTCQ"
      },
      "execution_count": 132,
      "outputs": []
    },
    {
      "cell_type": "code",
      "source": [
        "!python -m spacy download ro_core_news_sm"
      ],
      "metadata": {
        "id": "-kboZnMQtUiN"
      },
      "execution_count": null,
      "outputs": []
    },
    {
      "cell_type": "code",
      "source": [
        "nlp_en = spacy.load(\"en_core_web_sm\")\n",
        "nlp_ro = spacy.load(\"ro_core_news_sm\")\n",
        "tok = AutoTokenizer.from_pretrained(\"gpt2\")"
      ],
      "metadata": {
        "id": "eWH4hpt2tV2H"
      },
      "execution_count": 134,
      "outputs": []
    },
    {
      "cell_type": "code",
      "source": [
        "print('ENGLISH')\n",
        "\n",
        "pronouns_lang_en = metrics.pronouns(en_data, nlp_en, level=\"lang\")\n",
        "print(pronouns_lang_en, '\\n')\n",
        "\n",
        "pronouns_doc_en = metrics.pronouns(en_data, nlp_en, level=\"doc\")\n",
        "print(pronouns_doc_en.head(), '\\n')\n",
        "\n",
        "pronouns_page_en = metrics.pronouns(en_data, nlp_en, level=\"page\")\n",
        "print(pronouns_page_en.head(), '\\n')\n",
        "\n",
        "pronouns_sentence_en = metrics.pronouns(en_data, nlp_en, level=\"sentence\")\n",
        "print(pronouns_sentence_en.head(), '\\n')\n",
        "\n",
        "print('ROMANIAN')\n",
        "\n",
        "pronouns_lang_ro = metrics.pronouns(ro_data, nlp_ro, level=\"lang\")\n",
        "print(pronouns_lang_ro, '\\n')\n",
        "\n",
        "pronouns_doc_ro = metrics.pronouns(ro_data, nlp_ro, level=\"doc\")\n",
        "print(pronouns_doc_ro.head(), '\\n')\n",
        "\n",
        "pronouns_page_ro = metrics.pronouns(ro_data, nlp_ro, level=\"page\")\n",
        "print(pronouns_page_ro.head(), '\\n')\n",
        "\n",
        "pronouns_sentence_ro = metrics.pronouns(ro_data, nlp_ro, level=\"sentence\")\n",
        "print(pronouns_sentence_ro.head(), '\\n')"
      ],
      "metadata": {
        "colab": {
          "base_uri": "https://localhost:8080/"
        },
        "id": "90iWupcMvgZP",
        "outputId": "541fc92e-5f04-4cd1-fde1-3f4b5b862042"
      },
      "execution_count": 129,
      "outputs": [
        {
          "output_type": "stream",
          "name": "stdout",
          "text": [
            "ENGLISH\n",
            "  level  total_pronouns  n_sentences  total_words\n",
            "0  lang             447          288         6356 \n",
            "\n",
            "   stimulus_id         stimulus_name  total_pronouns  n_sentences  total_words\n",
            "0            1     PopSci_MultiplEYE              43           37          811\n",
            "1            2       Ins_HumanRights               9            9          327\n",
            "2            3  Ins_LearningMobility              10           20          531\n",
            "3            4         Lit_Alchemist              77           25          494\n",
            "4            6     Lit_MagicMountain              54           17          508 \n",
            "\n",
            "   stimulus_id      stimulus_name  page  total_pronouns  n_sentences  \\\n",
            "0            1  PopSci_MultiplEYE     1               1            4   \n",
            "1            1  PopSci_MultiplEYE     2               1            3   \n",
            "2            1  PopSci_MultiplEYE     3               1            2   \n",
            "3            1  PopSci_MultiplEYE     4               4            3   \n",
            "4            1  PopSci_MultiplEYE     5               2            4   \n",
            "\n",
            "   total_words  \n",
            "0           71  \n",
            "1           67  \n",
            "2           68  \n",
            "3           65  \n",
            "4           84   \n",
            "\n",
            "   stimulus_id      stimulus_name  page  sent_idx  pronouns  words\n",
            "0            1  PopSci_MultiplEYE  None         0         0     19\n",
            "1            1  PopSci_MultiplEYE  None         1         0     10\n",
            "2            1  PopSci_MultiplEYE  None         2         0     18\n",
            "3            1  PopSci_MultiplEYE  None         3         1     24\n",
            "4            1  PopSci_MultiplEYE  None         4         0     18 \n",
            "\n",
            "ROMANIAN\n",
            "  level  total_pronouns  n_sentences  total_words\n",
            "0  lang             353          301         6286 \n",
            "\n",
            "   stimulus_id         stimulus_name  total_pronouns  n_sentences  total_words\n",
            "0            1     PopSci_MultiplEYE              37           39          819\n",
            "1            2       Ins_HumanRights               7            8          317\n",
            "2            3  Ins_LearningMobility              14           21          637\n",
            "3            4         Lit_Alchemist              55           28          429\n",
            "4            6     Lit_MagicMountain              39           14          536 \n",
            "\n",
            "   stimulus_id      stimulus_name  page  total_pronouns  n_sentences  \\\n",
            "0            1  PopSci_MultiplEYE     1               2            4   \n",
            "1            1  PopSci_MultiplEYE     2               1            4   \n",
            "2            1  PopSci_MultiplEYE     3               0            2   \n",
            "3            1  PopSci_MultiplEYE     4               5            4   \n",
            "4            1  PopSci_MultiplEYE     5               2            4   \n",
            "\n",
            "   total_words  \n",
            "0           74  \n",
            "1           83  \n",
            "2           64  \n",
            "3           56  \n",
            "4           74   \n",
            "\n",
            "   stimulus_id      stimulus_name  page  sent_idx  pronouns  words\n",
            "0            1  PopSci_MultiplEYE  None         0         1     21\n",
            "1            1  PopSci_MultiplEYE  None         1         0      9\n",
            "2            1  PopSci_MultiplEYE  None         2         0     17\n",
            "3            1  PopSci_MultiplEYE  None         3         1     27\n",
            "4            1  PopSci_MultiplEYE  None         4         0     24 \n",
            "\n"
          ]
        }
      ]
    },
    {
      "cell_type": "code",
      "source": [
        "print('ENGLISH')\n",
        "\n",
        "punctuation_lang_en = metrics.punctuation(en_data, nlp_en, level=\"lang\")\n",
        "print(punctuation_lang_en, '\\n')\n",
        "\n",
        "punctuation_doc_en = metrics.punctuation(en_data, nlp_en, level=\"doc\")\n",
        "print(punctuation_doc_en.head(), '\\n')\n",
        "\n",
        "punctuation_page_en = metrics.punctuation(en_data, nlp_en, level=\"page\")\n",
        "print(punctuation_page_en.head(), '\\n')\n",
        "\n",
        "print('ROMANIAN')\n",
        "\n",
        "punctuation_lang_ro = metrics.punctuation(ro_data, nlp_ro, level=\"lang\")\n",
        "print(punctuation_lang_ro, '\\n')\n",
        "\n",
        "punctuation_doc_ro = metrics.punctuation(ro_data, nlp_ro, level=\"doc\")\n",
        "print(punctuation_doc_ro.head(), '\\n')\n",
        "\n",
        "punctuation_page_ro = metrics.punctuation(ro_data, nlp_ro, level=\"page\")\n",
        "print(punctuation_page_ro.head(), '\\n')"
      ],
      "metadata": {
        "colab": {
          "base_uri": "https://localhost:8080/"
        },
        "id": "_fNwVUVXzz8Z",
        "outputId": "8e5226fa-3782-49e6-ff84-b9e46c7e6a54"
      },
      "execution_count": 136,
      "outputs": [
        {
          "output_type": "stream",
          "name": "stdout",
          "text": [
            "ENGLISH\n",
            "  level  total_punct  n_sentences\n",
            "0  lang          870          288 \n",
            "\n",
            "   stimulus_id         stimulus_name  total_punct  n_sentences\n",
            "0            1     PopSci_MultiplEYE          109           37\n",
            "1            2       Ins_HumanRights           28            9\n",
            "2            3  Ins_LearningMobility           76           20\n",
            "3            4         Lit_Alchemist           60           25\n",
            "4            6     Lit_MagicMountain           76           17 \n",
            "\n",
            "   stimulus_id      stimulus_name  page  total_punct  n_sentences\n",
            "0            1  PopSci_MultiplEYE     1           16            4\n",
            "1            1  PopSci_MultiplEYE     2            8            3\n",
            "2            1  PopSci_MultiplEYE     3            8            2\n",
            "3            1  PopSci_MultiplEYE     4           12            3\n",
            "4            1  PopSci_MultiplEYE     5           14            4 \n",
            "\n",
            "ROMANIAN\n",
            "  level  total_punct  n_sentences\n",
            "0  lang          835          301 \n",
            "\n",
            "   stimulus_id         stimulus_name  total_punct  n_sentences\n",
            "0            1     PopSci_MultiplEYE           95           39\n",
            "1            2       Ins_HumanRights           23            8\n",
            "2            3  Ins_LearningMobility           80           21\n",
            "3            4         Lit_Alchemist           49           28\n",
            "4            6     Lit_MagicMountain           74           14 \n",
            "\n",
            "   stimulus_id      stimulus_name  page  total_punct  n_sentences\n",
            "0            1  PopSci_MultiplEYE     1           21            4\n",
            "1            1  PopSci_MultiplEYE     2            5            4\n",
            "2            1  PopSci_MultiplEYE     3            6            2\n",
            "3            1  PopSci_MultiplEYE     4            7            4\n",
            "4            1  PopSci_MultiplEYE     5           11            4 \n",
            "\n"
          ]
        }
      ]
    },
    {
      "cell_type": "code",
      "source": [
        "print('ENGLISH')\n",
        "\n",
        "fertility_lang_en = metrics.fertility(en_data, nlp_en, tok, level=\"lang\")\n",
        "print(fertility_lang_en, '\\n')\n",
        "\n",
        "fertility_doc_en = metrics.fertility(en_data, nlp_en, tok, level=\"doc\")\n",
        "print(fertility_doc_en.head(), '\\n')\n",
        "\n",
        "fertility_page_en = metrics.fertility(en_data, nlp_en, tok, level=\"page\")\n",
        "print(fertility_page_en.head(), '\\n')\n",
        "\n",
        "print('ROMANIAN')\n",
        "\n",
        "fertility_lang_ro = metrics.fertility(ro_data, nlp_ro, tok, level=\"lang\")\n",
        "print(fertility_lang_ro, '\\n')\n",
        "\n",
        "fertility_doc_ro = metrics.fertility(ro_data, nlp_ro, tok, level=\"doc\")\n",
        "print(fertility_doc_ro.head(), '\\n')\n",
        "\n",
        "fertility_page_ro = metrics.fertility(ro_data, nlp_ro, tok, level=\"page\")\n",
        "print(fertility_page_ro.head(), '\\n')"
      ],
      "metadata": {
        "colab": {
          "base_uri": "https://localhost:8080/"
        },
        "id": "-LXu7oBM0Q09",
        "outputId": "6b6d2755-dfde-4440-c0fe-094a2b7ada94"
      },
      "execution_count": 138,
      "outputs": [
        {
          "output_type": "stream",
          "name": "stdout",
          "text": [
            "ENGLISH\n",
            "  level  total_words  total_llm_tokens\n",
            "0  lang         6356              8234 \n",
            "\n",
            "   stimulus_id         stimulus_name  total_words  total_llm_tokens\n",
            "0            1     PopSci_MultiplEYE          811              1048\n",
            "1            2       Ins_HumanRights          327               420\n",
            "2            3  Ins_LearningMobility          531               679\n",
            "3            4         Lit_Alchemist          494               598\n",
            "4            6     Lit_MagicMountain          508               616 \n",
            "\n",
            "   stimulus_id      stimulus_name  page  total_words  total_llm_tokens\n",
            "0            1  PopSci_MultiplEYE     1           71               104\n",
            "1            1  PopSci_MultiplEYE     2           67                92\n",
            "2            1  PopSci_MultiplEYE     3           68                88\n",
            "3            1  PopSci_MultiplEYE     4           65                77\n",
            "4            1  PopSci_MultiplEYE     5           84               107 \n",
            "\n",
            "ROMANIAN\n",
            "  level  total_words  total_llm_tokens\n",
            "0  lang         6286             17635 \n",
            "\n",
            "   stimulus_id         stimulus_name  total_words  total_llm_tokens\n",
            "0            1     PopSci_MultiplEYE          819              2392\n",
            "1            2       Ins_HumanRights          317               999\n",
            "2            3  Ins_LearningMobility          637              1880\n",
            "3            4         Lit_Alchemist          429              1202\n",
            "4            6     Lit_MagicMountain          536              1485 \n",
            "\n",
            "   stimulus_id      stimulus_name  page  total_words  total_llm_tokens\n",
            "0            1  PopSci_MultiplEYE     1           74               220\n",
            "1            1  PopSci_MultiplEYE     2           83               274\n",
            "2            1  PopSci_MultiplEYE     3           64               211\n",
            "3            1  PopSci_MultiplEYE     4           56               172\n",
            "4            1  PopSci_MultiplEYE     5           74               213 \n",
            "\n"
          ]
        }
      ]
    },
    {
      "cell_type": "code",
      "source": [
        "print('ENGLISH')\n",
        "\n",
        "ttr_lang_en = metrics.ttr(en_data, nlp_en, level=\"lang\")\n",
        "print(ttr_lang_en, '\\n')\n",
        "\n",
        "ttr_doc_en = metrics.ttr(en_data, nlp_en, level=\"doc\")\n",
        "print(ttr_doc_en.head(), '\\n')\n",
        "\n",
        "ttr_page_en = metrics.ttr(en_data, nlp_en, level=\"page\")\n",
        "print(ttr_page_en.head(), '\\n')\n",
        "\n",
        "print('ROMANIAN')\n",
        "\n",
        "ttr_lang_ro = metrics.ttr(ro_data, nlp_ro, level=\"lang\")\n",
        "print(ttr_lang_ro, '\\n')\n",
        "\n",
        "ttr_doc_ro = metrics.ttr(ro_data, nlp_ro, level=\"doc\")\n",
        "print(ttr_doc_ro.head(), '\\n')\n",
        "\n",
        "ttr_page_ro = metrics.ttr(ro_data, nlp_ro, level=\"page\")\n",
        "print(ttr_page_ro.head(), '\\n')"
      ],
      "metadata": {
        "colab": {
          "base_uri": "https://localhost:8080/"
        },
        "id": "8DPeS5vntZhX",
        "outputId": "ee7f92d7-2bf0-462d-f052-377013952e6c"
      },
      "execution_count": 140,
      "outputs": [
        {
          "output_type": "stream",
          "name": "stdout",
          "text": [
            "ENGLISH\n",
            "  level  num_tokens  num_types       ttr\n",
            "0  lang        6439       4748  0.737382 \n",
            "\n",
            "   stimulus_id         stimulus_name  num_tokens  num_types       ttr\n",
            "0            1     PopSci_MultiplEYE         814        596  0.732187\n",
            "1            2       Ins_HumanRights         327        241  0.737003\n",
            "2            3  Ins_LearningMobility         534        381  0.713483\n",
            "3            4         Lit_Alchemist         495        327  0.660606\n",
            "4            6     Lit_MagicMountain         509        362  0.711198 \n",
            "\n",
            "   stimulus_id      stimulus_name  page  num_tokens  num_types       ttr\n",
            "0            1  PopSci_MultiplEYE     1          71         53  0.746479\n",
            "1            1  PopSci_MultiplEYE     2          67         53  0.791045\n",
            "2            1  PopSci_MultiplEYE     3          68         52  0.764706\n",
            "3            1  PopSci_MultiplEYE     4          65         43  0.661538\n",
            "4            1  PopSci_MultiplEYE     5          85         57  0.670588 \n",
            "\n",
            "ROMANIAN\n",
            "  level  num_tokens  num_types       ttr\n",
            "0  lang        7508       5729  0.763053 \n",
            "\n",
            "   stimulus_id         stimulus_name  num_tokens  num_types       ttr\n",
            "0            1     PopSci_MultiplEYE         978        727  0.743354\n",
            "1            2       Ins_HumanRights         377        306  0.811671\n",
            "2            3  Ins_LearningMobility         745        545  0.731544\n",
            "3            4         Lit_Alchemist         518        374  0.722008\n",
            "4            6     Lit_MagicMountain         643        459  0.713841 \n",
            "\n",
            "   stimulus_id      stimulus_name  page  num_tokens  num_types       ttr\n",
            "0            1  PopSci_MultiplEYE     1          89         67  0.752809\n",
            "1            1  PopSci_MultiplEYE     2         101         67  0.663366\n",
            "2            1  PopSci_MultiplEYE     3          76         58  0.763158\n",
            "3            1  PopSci_MultiplEYE     4          73         54  0.739726\n",
            "4            1  PopSci_MultiplEYE     5          89         66  0.741573 \n",
            "\n"
          ]
        }
      ]
    },
    {
      "cell_type": "code",
      "source": [
        "#total pronouns / total sentences\n",
        "\n",
        "pronouns_avg_en = pronouns_lang_en[\"total_pronouns\"].sum() / pronouns_lang_en[\"n_sentences\"].sum()\n",
        "print(\"English average pronouns per sentence:\", pronouns_avg_en)\n",
        "\n",
        "pronouns_avg_ro = pronouns_lang_ro[\"total_pronouns\"].sum() / pronouns_lang_ro[\"n_sentences\"].sum()\n",
        "print(\"Romanian average pronouns per sentence:\", pronouns_avg_ro)\n",
        "\n",
        "#Average pronouns per sentence (equal weight)\n",
        "\n",
        "pronouns_avg_en2 = pronouns_sentence_en[\"pronouns\"].mean()\n",
        "print(\"English average pronouns per sentence (equal weight):\", pronouns_avg_en2)\n",
        "\n",
        "pronouns_avg_ro2 = pronouns_sentence_ro[\"pronouns\"].mean()\n",
        "print(\"Romanian average pronouns per sentence (equal weight):\", pronouns_avg_ro2)\n",
        "\n",
        "\n",
        "\n",
        "\n",
        "#Average punctuation per sentence\n",
        "\n",
        "punctuation_avg_en = punctuation_lang_en[\"total_punct\"].sum() / punctuation_lang_en[\"n_sentences\"].sum()\n",
        "print(\"English average punctuation per sentence:\", punctuation_avg_en)\n",
        "\n",
        "punctuation_avg_ro = punctuation_lang_ro[\"total_punct\"].sum() / punctuation_lang_ro[\"n_sentences\"].sum()\n",
        "print(\"Romanian average punctuation per sentence:\", punctuation_avg_ro)\n",
        "\n",
        "\n",
        "\n",
        "\n",
        "#Average fertility per word\n",
        "\n",
        "fertility_avg_en = fertility_lang_en[\"total_llm_tokens\"].sum() / fertility_lang_en[\"total_words\"].sum()\n",
        "print(\"English average fertility per word:\", fertility_avg_en)\n",
        "\n",
        "fertility_avg_ro = fertility_lang_ro[\"total_llm_tokens\"].sum() / fertility_lang_ro[\"total_words\"].sum()\n",
        "print(\"Romanian average fertility per word:\", fertility_avg_ro)\n",
        "\n",
        "\n",
        "\n",
        "\n",
        "#Average ttr per word\n",
        "\n",
        "ttr_avg_en = ttr_lang_en[\"num_types\"].sum() / ttr_lang_en[\"num_tokens\"].sum()\n",
        "print(\"English average ttr per word:\", ttr_avg_en)\n",
        "\n",
        "ttr_avg_ro = ttr_lang_ro[\"num_types\"].sum() / ttr_lang_ro[\"num_tokens\"].sum()\n",
        "print(\"Romanian average ttr per word:\", ttr_avg_ro)"
      ],
      "metadata": {
        "colab": {
          "base_uri": "https://localhost:8080/"
        },
        "id": "AeczBUhWQZ6y",
        "outputId": "86f87de7-72d8-4122-8c60-a9e846d94568"
      },
      "execution_count": 143,
      "outputs": [
        {
          "output_type": "stream",
          "name": "stdout",
          "text": [
            "English average pronouns per sentence: 1.5520833333333333\n",
            "Romanian average pronouns per sentence: 1.1727574750830565\n",
            "English average pronouns per sentence (equal weight): 1.6079136690647482\n",
            "Romanian average pronouns per sentence (equal weight): 1.2385964912280703\n",
            "English average punctuation per sentence: 3.0208333333333335\n",
            "Romanian average punctuation per sentence: 2.7740863787375414\n",
            "English average fertility per word: 1.2954688483322845\n",
            "Romanian average fertility per word: 2.8054406617881007\n",
            "English average ttr per word: 0.7373815809908371\n",
            "Romanian average ttr per word: 0.7630527437400106\n"
          ]
        }
      ]
    }
  ]
}