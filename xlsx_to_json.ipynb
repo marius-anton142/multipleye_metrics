{
  "nbformat": 4,
  "nbformat_minor": 0,
  "metadata": {
    "colab": {
      "provenance": []
    },
    "kernelspec": {
      "name": "python3",
      "display_name": "Python 3"
    },
    "language_info": {
      "name": "python"
    }
  },
  "cells": [
    {
      "cell_type": "code",
      "execution_count": 1,
      "metadata": {
        "id": "5WXgJJflbJPS"
      },
      "outputs": [],
      "source": [
        "import pandas as pd\n",
        "import json\n",
        "import re\n",
        "import spacy\n",
        "import os\n",
        "\n",
        "file = \"multipleye_stimuli_experiment_RO.xlsx\"\n",
        "excel_path = \"/content/\" + file"
      ]
    },
    {
      "cell_type": "code",
      "source": [
        "df = pd.read_excel(excel_path)\n",
        "\n",
        "stimuli = []\n",
        "for _, row in df.iterrows():\n",
        "    pages = []\n",
        "    for col in df.columns:\n",
        "        if col.startswith(\"page_\") and pd.notna(row[col]):\n",
        "            pages.append(str(row[col]).strip())\n",
        "    stimuli.append({\n",
        "        \"stimulus_id\": int(row[\"stimulus_id\"]),\n",
        "        \"stimulus_name\": row[\"stimulus_name\"],\n",
        "        \"stimulus_type\": row[\"stimulus_type\"],\n",
        "        \"pages\": pages\n",
        "    })\n",
        "\n",
        "len(stimuli)"
      ],
      "metadata": {
        "colab": {
          "base_uri": "https://localhost:8080/"
        },
        "id": "oHZ2PjUzbKyU",
        "outputId": "670d981e-6672-41cc-992b-e2715c7b1478"
      },
      "execution_count": 2,
      "outputs": [
        {
          "output_type": "execute_result",
          "data": {
            "text/plain": [
              "12"
            ]
          },
          "metadata": {},
          "execution_count": 2
        }
      ]
    },
    {
      "cell_type": "code",
      "source": [
        "json_file = os.path.splitext(file)[0] + \".json\"\n",
        "\n",
        "with open(\"/content/\" + json_file, \"w\", encoding=\"utf-8\") as f:\n",
        "    json.dump(stimuli, f, indent=2, ensure_ascii=False)\n",
        "\n",
        "print(\"saved\", json_file)"
      ],
      "metadata": {
        "colab": {
          "base_uri": "https://localhost:8080/"
        },
        "id": "HpydXmFhbL0W",
        "outputId": "77f8e009-59dc-445f-8036-3cc15f4321f4"
      },
      "execution_count": 3,
      "outputs": [
        {
          "output_type": "stream",
          "name": "stdout",
          "text": [
            "saved multipleye_stimuli_experiment_RO.json\n"
          ]
        }
      ]
    }
  ]
}